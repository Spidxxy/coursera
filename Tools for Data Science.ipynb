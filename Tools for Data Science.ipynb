{
  "metadata": {
    "kernelspec": {
      "name": "python",
      "display_name": "Python (Pyodide)",
      "language": "python"
    },
    "language_info": {
      "codemirror_mode": {
        "name": "python",
        "version": 3
      },
      "file_extension": ".py",
      "mimetype": "text/x-python",
      "name": "python",
      "nbconvert_exporter": "python",
      "pygments_lexer": "ipython3",
      "version": "3.8"
    }
  },
  "nbformat_minor": 5,
  "nbformat": 4,
  "cells": [
    {
      "id": "a2fbdb79-1280-4467-a4e3-3edd31be2a94",
      "cell_type": "markdown",
      "source": "# Tools for Data Science ",
      "metadata": {}
    },
    {
      "id": "17634873-3a98-44c7-8198-c2c8daa2e8c3",
      "cell_type": "markdown",
      "source": "## Introduction\n\nIn this notebook, I will demonstrate basic concepts related to data science, including languages, libraries, tools, arithmetic operations, and key objectives. This assignment helps to practice the use of JupyterLite Notebooks and GitHub for sharing work.",
      "metadata": {}
    },
    {
      "id": "d5645962-64f1-402d-9aa2-17d78201aa2e",
      "cell_type": "markdown",
      "source": "## Data Science Languages\n\nSome of the popular languages that data scientists use are:\n- Java\n- Python\n- R\n- SQL",
      "metadata": {}
    },
    {
      "id": "ff41da11-e28f-4252-aae4-ff00bfd7391b",
      "cell_type": "markdown",
      "source": "## Data Science Libraries\n\nSome of the commonly used libraries in Data Science are:\n\n- Pandas\n- NumPy\n- Matplotlib\n- Seaborn\n- Scikit-learn\n- TensorFlow\n",
      "metadata": {}
    },
    {
      "id": "ef44a2e5-5df7-47c3-bdcb-f154110c78e8",
      "cell_type": "markdown",
      "source": "## Data Science Tools\n\n| Tool           | Description                          |\n|----------------|--------------------------------------|\n| Jupyter Notebook | Interactive computing environment   |\n| RStudio         | IDE for R programming                |\n| Apache Spark    | Big data processing framework        |\n| TensorFlow      | Machine learning library             |\n| Tableau         | Data visualization tool              |\n",
      "metadata": {}
    },
    {
      "id": "9dc649a2-1408-4c59-8e7c-2b13c7e02419",
      "cell_type": "markdown",
      "source": "## Arithmetic Expressions Examples\n\nIn this section, we will explore examples of simple arithmetic expressions like addition, subtraction, multiplication, and division.\n",
      "metadata": {}
    },
    {
      "id": "45a502fd-d6ef-4de4-81b8-f68d533c906e",
      "cell_type": "code",
      "source": "(3 * 4) + 5",
      "metadata": {
        "trusted": true
      },
      "outputs": [
        {
          "execution_count": 16,
          "output_type": "execute_result",
          "data": {
            "text/plain": "17"
          },
          "metadata": {}
        }
      ],
      "execution_count": 16
    },
    {
      "id": "28e816b6-2992-475a-b3a1-e4f6ab50a62d",
      "cell_type": "code",
      "source": "# Convert minutes to hours\n\nminutes = 200\nhours = minutes / 60\nhours\n",
      "metadata": {
        "trusted": true
      },
      "outputs": [
        {
          "execution_count": 17,
          "output_type": "execute_result",
          "data": {
            "text/plain": "3.3333333333333335"
          },
          "metadata": {}
        }
      ],
      "execution_count": 17
    },
    {
      "id": "8d1ab92f-9c7c-47ab-9d9d-b5a777238d98",
      "cell_type": "markdown",
      "source": "## Objectives\n\nThe objectives of this notebook are:\n\n- List popular languages for Data Science\n- List commonly used libraries for Data Science\n- Create tables of Data Science tools\n- Demonstrate simple arithmetic expressions\n- Practice using markdown and code cells\n",
      "metadata": {}
    },
    {
      "id": "6ade7f86-50da-460e-9551-ae757c3811d4",
      "cell_type": "markdown",
      "source": "## Author\n\nTuv Jugnarain\n",
      "metadata": {}
    },
    {
      "id": "c2f97b0d-58a5-42cb-ad3c-c14fd847a443",
      "cell_type": "code",
      "source": "",
      "metadata": {
        "trusted": true
      },
      "outputs": [],
      "execution_count": null
    }
  ]
}